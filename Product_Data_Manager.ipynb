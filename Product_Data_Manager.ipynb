{
 "cells": [
  {
   "cell_type": "code",
   "execution_count": 9,
   "id": "ed6080f8",
   "metadata": {},
   "outputs": [],
   "source": [
    "import os\n",
    "import json\n",
    "import csv"
   ]
  },
  {
   "cell_type": "code",
   "execution_count": 10,
   "id": "53098c10",
   "metadata": {},
   "outputs": [],
   "source": [
    "def load_data(main_folder):\n",
    "    product_details = {}\n",
    "    sales_data = {}\n",
    "    product_descriptions = {}\n",
    "\n",
    "    sales_csv_path = os.path.join(main_folder, \"sales_data.csv\")\n",
    "    with open(sales_csv_path, \"r\", encoding=\"utf-8\") as csvfile:\n",
    "        reader = csv.DictReader(csvfile)\n",
    "        for row in reader:\n",
    "            sku = row['Product_SKU']\n",
    "            sales = [int(row[f'Day{i}']) for i in range(1, 15)]\n",
    "            sales_data[sku] = sales\n",
    "\n",
    "    details_dir = os.path.join(main_folder, 'product_details')\n",
    "    for file_name in os.listdir(details_dir):\n",
    "        if file_name.endswith(\".json\"):\n",
    "            sku = file_name.split(\"_\")[1].replace(\".json\", \"\")\n",
    "            with open(os.path.join(details_dir, file_name), \"r\", encoding=\"utf-8\") as f:\n",
    "                product_details[sku] = json.load(f)\n",
    "\n",
    "    desc_dir = os.path.join(main_folder, 'product_descriptions')\n",
    "    for file_name in os.listdir(desc_dir):\n",
    "        if file_name.endswith(\".txt\"):\n",
    "            sku = file_name.split(\"_\")[1].replace(\".txt\", \"\")\n",
    "            with open(os.path.join(desc_dir, file_name), \"r\", encoding=\"utf-8\") as f:\n",
    "                product_descriptions[sku] = f.read()\n",
    "\n",
    "    print(\"✅ Data loaded successfully.\\n\")\n",
    "    return product_details, sales_data, product_descriptions\n"
   ]
  },
  {
   "cell_type": "code",
   "execution_count": 11,
   "id": "c49a0764",
   "metadata": {},
   "outputs": [],
   "source": [
    "def update_sales_data(sales_data, sku, sales_quantities):\n",
    "    sales_data[sku] = sales_quantities\n",
    "    return sales_data\n",
    "\n",
    "def update_product_details(product_details, sku, product_info):\n",
    "    product_details[sku] = product_info\n",
    "    return product_details\n",
    "\n",
    "def update_product_description(product_descriptions, sku, description):\n",
    "    product_descriptions[sku] = description\n",
    "    return product_descriptions\n"
   ]
  },
  {
   "cell_type": "code",
   "execution_count": 12,
   "id": "f319de9b",
   "metadata": {},
   "outputs": [],
   "source": [
    "def update(product_details, sales_data, product_descriptions):\n",
    "    sku = input(\"Enter 13-character SKU: \").strip()\n",
    "    if len(sku) != 13:\n",
    "        print(\"❌ SKU must be exactly 13 characters.\")\n",
    "        return product_details, sales_data, product_descriptions\n",
    "\n",
    "    sales_str = input(\"Enter sales data for 14 days, separated by spaces: \").strip()\n",
    "    sales_quantities = list(map(int, sales_str.split()))\n",
    "    if len(sales_quantities) != 14:\n",
    "        print(\"❌ Sales data must be 14 integers.\")\n",
    "        return product_details, sales_data, product_descriptions\n",
    "\n",
    "    product_name = input(\"Product name: \")\n",
    "    brand = input(\"Brand: \")\n",
    "    model = input(\"Model: \")\n",
    "    specifications = input(\"Specifications: \")\n",
    "    price = input(\"Price: \")\n",
    "    availability = input(\"Availability: \")\n",
    "\n",
    "    product_info = {\n",
    "        \"product_name\": product_name,\n",
    "        \"brand\": brand,\n",
    "        \"model\": model,\n",
    "        \"specifications\": specifications,\n",
    "        \"price\": price,\n",
    "        \"availability\": availability\n",
    "    }\n",
    "\n",
    "    desc = input(\"Enter product description: \")\n",
    "\n",
    "    sales_data = update_sales_data(sales_data, sku, sales_quantities)\n",
    "    product_details = update_product_details(product_details, sku, product_info)\n",
    "    product_descriptions = update_product_description(product_descriptions, sku, desc)\n",
    "\n",
    "    print(\"✅ Product successfully updated.\\n\")\n",
    "    return product_details, sales_data, product_descriptions\n"
   ]
  },
  {
   "cell_type": "code",
   "execution_count": 13,
   "id": "47248adb",
   "metadata": {},
   "outputs": [],
   "source": [
    "def dump_data(sales_data, product_details, product_descriptions, main_folder):\n",
    "    details_dir = os.path.join(main_folder, 'product_details')\n",
    "    desc_dir = os.path.join(main_folder, 'product_descriptions')\n",
    "    os.makedirs(details_dir, exist_ok=True)\n",
    "    os.makedirs(desc_dir, exist_ok=True)\n",
    "\n",
    "    sales_csv_path = os.path.join(main_folder, \"sales_data.csv\")\n",
    "    with open(sales_csv_path, \"w\", newline=\"\", encoding=\"utf-8\") as csvfile:\n",
    "        fieldnames = ['Product_SKU'] + [f'Day{i}' for i in range(1, 15)]\n",
    "        writer = csv.DictWriter(csvfile, fieldnames=fieldnames)\n",
    "        writer.writeheader()\n",
    "        for sku, sales in sales_data.items():\n",
    "            row = {'Product_SKU': sku}\n",
    "            for i, val in enumerate(sales, start=1):\n",
    "                row[f'Day{i}'] = val\n",
    "            writer.writerow(row)\n",
    "\n",
    "    for sku, details in product_details.items():\n",
    "        file_path = os.path.join(details_dir, f\"details_{sku}.json\")\n",
    "        with open(file_path, \"w\", encoding=\"utf-8\") as f:\n",
    "            json.dump(details, f, indent=2)\n",
    "\n",
    "    for sku, desc in product_descriptions.items():\n",
    "        file_path = os.path.join(desc_dir, f\"description_{sku}.txt\")\n",
    "        with open(file_path, \"w\", encoding=\"utf-8\") as f:\n",
    "            f.write(desc)\n",
    "\n",
    "    print(\"✅ All data saved successfully.\\n\")\n"
   ]
  },
  {
   "cell_type": "code",
   "execution_count": 15,
   "id": "81fdac23",
   "metadata": {},
   "outputs": [
    {
     "name": "stdin",
     "output_type": "stream",
     "text": [
      "Enter path to your mainfolder (e.g., C:/Users/you/Desktop/mainfolder):  C:\\Users\\Nihal\\OneDrive\\Desktop\\mainfolder\\mainfolder\n"
     ]
    },
    {
     "name": "stdout",
     "output_type": "stream",
     "text": [
      "✅ Data loaded successfully.\n",
      "\n"
     ]
    },
    {
     "name": "stdin",
     "output_type": "stream",
     "text": [
      "Enter 13-character SKU:  AISJDKFJW93NJ\n",
      "Enter sales data for 14 days, separated by spaces:  10 12 15 18 20 22 25 28 26 30 32 29 27 24\n",
      "Product name:  ArtCraft's NatureCanvas-1001 Wall Art Print\n",
      "Brand:  ArtCraft\n",
      "Model:  NatureCanvas-1001\n",
      "Specifications:  Dimensions: 16 x 20 inches, Material: Canvas, Mounting Type: Wall Mount, Ready to Hang\n",
      "Price:  ₹799\n",
      "Availability:  In Stock\n",
      "Enter product description:  ArtCraft’s NatureCanvas-1001 Wall Art Print brings nature into your living space with ready-to-hang ease. A perfect blend of serenity and style, rated 4.6/5.\n"
     ]
    },
    {
     "name": "stdout",
     "output_type": "stream",
     "text": [
      "✅ Product successfully updated.\n",
      "\n",
      "✅ All data saved successfully.\n",
      "\n"
     ]
    }
   ],
   "source": [
    "# Replace this with your actual folder path\n",
    "main_folder = input(\"Enter path to your mainfolder (e.g., C:/Users/you/Desktop/mainfolder): \").strip()\n",
    "\n",
    "# Load\n",
    "product_details, sales_data, product_descriptions = load_data(main_folder)\n",
    "\n",
    "# Update\n",
    "product_details, sales_data, product_descriptions = update(product_details, sales_data, product_descriptions)\n",
    "\n",
    "# Save\n",
    "dump_data(sales_data, product_details, product_descriptions, main_folder)\n"
   ]
  },
  {
   "cell_type": "code",
   "execution_count": null,
   "id": "09e77ac2-fbd1-4330-b756-24e004ca1329",
   "metadata": {},
   "outputs": [],
   "source": []
  }
 ],
 "metadata": {
  "kernelspec": {
   "display_name": "Python [conda env:base] *",
   "language": "python",
   "name": "conda-base-py"
  },
  "language_info": {
   "codemirror_mode": {
    "name": "ipython",
    "version": 3
   },
   "file_extension": ".py",
   "mimetype": "text/x-python",
   "name": "python",
   "nbconvert_exporter": "python",
   "pygments_lexer": "ipython3",
   "version": "3.12.7"
  }
 },
 "nbformat": 4,
 "nbformat_minor": 5
}
